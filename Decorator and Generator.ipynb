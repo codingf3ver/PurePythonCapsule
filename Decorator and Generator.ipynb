{
 "cells": [
  {
   "cell_type": "code",
   "execution_count": 4,
   "metadata": {},
   "outputs": [
    {
     "name": "stdout",
     "output_type": "stream",
     "text": [
      "Thi is tausif\n"
     ]
    }
   ],
   "source": [
    "def func(var):\n",
    "    print(var)\n",
    "func2=func\n",
    "func2('This is tausif')"
   ]
  },
  {
   "cell_type": "code",
   "execution_count": 8,
   "metadata": {},
   "outputs": [
    {
     "name": "stdout",
     "output_type": "stream",
     "text": [
      "This is main function\n",
      "First child function\n",
      "Second child function\n"
     ]
    }
   ],
   "source": [
    "def func(var):\n",
    "    print(var)\n",
    "    def func1():\n",
    "        print('First child function')\n",
    "    def func2():\n",
    "        print('Second child function')\n",
    "    func1()\n",
    "    func2()\n",
    "func('This is main function')"
   ]
  },
  {
   "cell_type": "code",
   "execution_count": 15,
   "metadata": {},
   "outputs": [
    {
     "name": "stdout",
     "output_type": "stream",
     "text": [
      "Multiplication is 25\n",
      "Subtraction is 18\n"
     ]
    }
   ],
   "source": [
    "def mul(x):\n",
    "    return f'Multiplication is {x*x}'\n",
    "def sub(x):\n",
    "    return f'Subtraction is {x-2}'\n",
    "def operator(func,x):\n",
    "    return func(x)\n",
    "print(operator(mul,5)) #Higher order function\n",
    "print(operator(sub,20))"
   ]
  },
  {
   "cell_type": "code",
   "execution_count": 17,
   "metadata": {},
   "outputs": [
    {
     "name": "stdout",
     "output_type": "stream",
     "text": [
      "Hello Brother\n"
     ]
    }
   ],
   "source": [
    "def main():\n",
    "    def hi():\n",
    "        print('Hello Brother') #nested function\n",
    "    return hi\n",
    "obj=main()\n",
    "obj()"
   ]
  },
  {
   "cell_type": "markdown",
   "metadata": {},
   "source": [
    "# SYNTATIC DECORATOR"
   ]
  },
  {
   "cell_type": "code",
   "execution_count": 41,
   "metadata": {},
   "outputs": [
    {
     "name": "stdout",
     "output_type": "stream",
     "text": [
      "20000\n"
     ]
    }
   ],
   "source": [
    "def mult(x,y):\n",
    "    print(x*y)\n",
    "def outer_mul(func):\n",
    "    def inner(x,y):\n",
    "        if (x<y):\n",
    "            x,y=y,x\n",
    "            return func(x,y)\n",
    "    return inner\n",
    "multi=outer_mul(mult) \n",
    "multi(100,200)"
   ]
  },
  {
   "cell_type": "code",
   "execution_count": 40,
   "metadata": {},
   "outputs": [
    {
     "name": "stdout",
     "output_type": "stream",
     "text": [
      "21525\n"
     ]
    }
   ],
   "source": [
    "def outer_mul(func):\n",
    "    def inner(x,y):\n",
    "        if (x<y):\n",
    "            x,y=y,x\n",
    "            return func(x,y)\n",
    "    return inner\n",
    "multi(105,205)\n",
    "@outer_mul           # @ is decorator symbol\n",
    "def mul(x,y):\n",
    "    print(x*y)"
   ]
  },
  {
   "cell_type": "code",
   "execution_count": 72,
   "metadata": {},
   "outputs": [
    {
     "name": "stdout",
     "output_type": "stream",
     "text": [
      "Started\n"
     ]
    }
   ],
   "source": [
    "def fun(f):\n",
    "    print('Started')\n",
    "    \n",
    "    def inner(*arg,**kargs):\n",
    "        f(a,b)\n",
    "        r=f(*arg,**kargs)\n",
    "        return r\n",
    "    return inner\n",
    "@fun \n",
    "def func(a,b):\n",
    "    return a+b\n",
    "a,b=1,2    "
   ]
  },
  {
   "cell_type": "markdown",
   "metadata": {},
   "source": [
    "# ITERATOR"
   ]
  },
  {
   "cell_type": "code",
   "execution_count": 89,
   "metadata": {},
   "outputs": [
    {
     "name": "stdout",
     "output_type": "stream",
     "text": [
      "enter the range: 5\n",
      "[]\n"
     ]
    }
   ],
   "source": [
    "n=int(input('enter the range: '))\n",
    "a=0\n",
    "b=1\n",
    "li=[]\n",
    "def fibo(n):\n",
    "    for i in range(1,n+1):\n",
    "        nex=a+b\n",
    "        a=b\n",
    "        b=nex\n",
    "        p=li.append(a)\n",
    "    return p\n",
    "print(li)\n"
   ]
  },
  {
   "cell_type": "code",
   "execution_count": 7,
   "metadata": {},
   "outputs": [
    {
     "name": "stdout",
     "output_type": "stream",
     "text": [
      "enter the input :5\n",
      "[0, 1, 1, 2, 3]\n",
      "[0, 1, 1, 8, 27]\n"
     ]
    }
   ],
   "source": [
    "inp=int(input('enter the input :'))\n",
    "a=0\n",
    "b=1\n",
    "li=[]\n",
    "for i in range(1,inp+1):\n",
    "    li.append(a)\n",
    "    c=a+b\n",
    "    a=b\n",
    "    b=c  \n",
    "print(li)\n",
    "cube=[]\n",
    "for i in li:\n",
    "    cube.append(i**3)\n",
    "print(cube)\n"
   ]
  },
  {
   "cell_type": "code",
   "execution_count": 45,
   "metadata": {},
   "outputs": [
    {
     "name": "stdout",
     "output_type": "stream",
     "text": [
      "Enter your number: 10\n",
      "[0, 1, 1, 2, 3, 5, 8, 13, 21, 34]\n"
     ]
    }
   ],
   "source": [
    "n=int(input(\"Enter your number: \"))\n",
    "def fibo(n):\n",
    "    a=0\n",
    "    b=1\n",
    "    li=[]\n",
    "    for i in range(1,n+1):\n",
    "        li.append(a)\n",
    "        c=a+b\n",
    "        a=b\n",
    "        b=c\n",
    "    return li\n",
    "print(fibo(n))"
   ]
  },
  {
   "cell_type": "code",
   "execution_count": 46,
   "metadata": {},
   "outputs": [
    {
     "name": "stdout",
     "output_type": "stream",
     "text": [
      "enter the range :10\n",
      "[0, 1, 1, 8, 27, 125, 512, 2197, 9261, 39304]\n"
     ]
    }
   ],
   "source": [
    "cube = list(map(lambda x:x**3,fibonacci(n))) # complete the lambda function \n",
    "n=int(input(\"enter the range :\"))\n",
    "def fibonacci(n):\n",
    "    a=0\n",
    "    b=1\n",
    "    li=[]\n",
    "    for i in range(1,n+1):\n",
    "        li.append(a)\n",
    "        c=a+b\n",
    "        a=b\n",
    "        b=c\n",
    "    return li\n",
    "print(cube)"
   ]
  },
  {
   "cell_type": "code",
   "execution_count": 23,
   "metadata": {},
   "outputs": [
    {
     "name": "stdout",
     "output_type": "stream",
     "text": [
      "[16, 256, 1296, 2401, 6561]\n",
      "CPU times: user 5 µs, sys: 1 µs, total: 6 µs\n",
      "Wall time: 38.9 µs\n"
     ]
    }
   ],
   "source": [
    "x=list(map(lambda x:x**4,[2,4,6,7,9]))\n",
    "print(x)\n",
    "%time"
   ]
  },
  {
   "cell_type": "code",
   "execution_count": 44,
   "metadata": {},
   "outputs": [
    {
     "data": {
      "text/plain": [
       "<map at 0x7fa8157ca790>"
      ]
     },
     "execution_count": 44,
     "metadata": {},
     "output_type": "execute_result"
    }
   ],
   "source": [
    "import pandas as pd\n",
    "import numpy as np\n",
    "dic=pd.DataFrame(np.arange(9).reshape(3,3),columns=list('abc'))\n",
    "x=map(lambda x:x['a']*10,dic)\n",
    "x"
   ]
  },
  {
   "cell_type": "code",
   "execution_count": 48,
   "metadata": {},
   "outputs": [
    {
     "data": {
      "text/plain": [
       "[11, 22, 33]"
      ]
     },
     "execution_count": 48,
     "metadata": {},
     "output_type": "execute_result"
    }
   ],
   "source": [
    "list_a = [1, 2, 3]\n",
    "list_b = [10, 20, 30]\n",
    "li=list(map(lambda x, y: x + y, list_a, list_b)) \n",
    "li"
   ]
  },
  {
   "cell_type": "markdown",
   "metadata": {},
   "source": [
    "# GENERATOR\n",
    "<p> It is taking one value at a time so as that your memory consumtion will be minimized when comparing to the list that will take whole value at a time</p>"
   ]
  },
  {
   "cell_type": "code",
   "execution_count": 26,
   "metadata": {},
   "outputs": [
    {
     "name": "stdout",
     "output_type": "stream",
     "text": [
      "0\n"
     ]
    }
   ],
   "source": [
    "var=(x*x for x in range(1000000) )\n",
    "print(next(var))  ##--->see here it is printing one value at a time rather than loading whole value in the memory\n",
    "\n"
   ]
  },
  {
   "cell_type": "code",
   "execution_count": 27,
   "metadata": {},
   "outputs": [
    {
     "name": "stdout",
     "output_type": "stream",
     "text": [
      "[0, 1, 4, 9, 16, 25, 36, 49, 64, 81]\n"
     ]
    }
   ],
   "source": [
    "var=[x*x for x in range(10) ]\n",
    "print(var)\n"
   ]
  },
  {
   "cell_type": "code",
   "execution_count": 28,
   "metadata": {},
   "outputs": [
    {
     "name": "stdout",
     "output_type": "stream",
     "text": [
      "10\n",
      "[0, 1, 2, 3, 4, 5, 6, 7, 8, 9]\n"
     ]
    }
   ],
   "source": [
    "x=int(input())\n",
    "def func(x):\n",
    "    li=[]\n",
    "    for i in range(x):\n",
    "        li.append(i)\n",
    "    return li\n",
    "obj=func(x)\n",
    "print(obj)\n"
   ]
  },
  {
   "cell_type": "code",
   "execution_count": 46,
   "metadata": {},
   "outputs": [
    {
     "name": "stdout",
     "output_type": "stream",
     "text": [
      "10000\n",
      "20.331893\n",
      "0\n",
      "20.332456\n",
      "0.0005659999999991783\n"
     ]
    }
   ],
   "source": [
    "import time\n",
    "x=int(input())\n",
    "def func(x):\n",
    "    for i in range(x):\n",
    "        yield i       # <----- # This 'yeild' keyword is used for generator \n",
    "obj=func(x)\n",
    "t1=time.process_time()\n",
    "print(time.process_time())\n",
    "print(next(obj))\n",
    "t2=time.process_time()\n",
    "print(time.process_time())\n",
    "print(t2-t1)      #   <---- see the time difference when when executing with generator"
   ]
  },
  {
   "cell_type": "code",
   "execution_count": 48,
   "metadata": {},
   "outputs": [
    {
     "name": "stdout",
     "output_type": "stream",
     "text": [
      "100\n",
      "20.379821\n",
      "[0, 1, 2, 3, 4, 5, 6, 7, 8, 9, 10, 11, 12, 13, 14, 15, 16, 17, 18, 19, 20, 21, 22, 23, 24, 25, 26, 27, 28, 29, 30, 31, 32, 33, 34, 35, 36, 37, 38, 39, 40, 41, 42, 43, 44, 45, 46, 47, 48, 49, 50, 51, 52, 53, 54, 55, 56, 57, 58, 59, 60, 61, 62, 63, 64, 65, 66, 67, 68, 69, 70, 71, 72, 73, 74, 75, 76, 77, 78, 79, 80, 81, 82, 83, 84, 85, 86, 87, 88, 89, 90, 91, 92, 93, 94, 95, 96, 97, 98, 99]\n",
      "20.380329\n",
      "0.0004670000000004393\n"
     ]
    }
   ],
   "source": [
    "import time\n",
    "x=int(input())\n",
    "def func(x):\n",
    "    for i in range(x):\n",
    "        yield i \n",
    "obj=func(x)\n",
    "t1=time.process_time()\n",
    "print(time.process_time())\n",
    "print(list(obj))\n",
    "t2=time.process_time()\n",
    "print(time.process_time())\n",
    "print(t2-t1)    #<-----see the time  difference when executing with  list so generator is much more faster than list"
   ]
  },
  {
   "cell_type": "code",
   "execution_count": 51,
   "metadata": {},
   "outputs": [],
   "source": [
    "import pandas as pd\n"
   ]
  },
  {
   "cell_type": "code",
   "execution_count": null,
   "metadata": {},
   "outputs": [],
   "source": []
  }
 ],
 "metadata": {
  "kernelspec": {
   "display_name": "Python 3",
   "language": "python",
   "name": "python3"
  },
  "language_info": {
   "codemirror_mode": {
    "name": "ipython",
    "version": 3
   },
   "file_extension": ".py",
   "mimetype": "text/x-python",
   "name": "python",
   "nbconvert_exporter": "python",
   "pygments_lexer": "ipython3",
   "version": "3.8.3"
  }
 },
 "nbformat": 4,
 "nbformat_minor": 4
}
